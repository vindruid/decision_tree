{
 "cells": [
  {
   "cell_type": "code",
   "execution_count": 1,
   "metadata": {},
   "outputs": [],
   "source": [
    "import math\n",
    "import numpy as np"
   ]
  },
  {
   "cell_type": "code",
   "execution_count": 2,
   "metadata": {},
   "outputs": [],
   "source": [
    "pathToData = \"../data/money/money.csv\"\n",
    "pathToNames = \"../data/money/money.names\""
   ]
  },
  {
   "cell_type": "code",
   "execution_count": 3,
   "metadata": {},
   "outputs": [],
   "source": [
    "# pathToData = \"../data/iris/iris.data\"\n",
    "# pathToNames = \"../data/iris/iris.names\""
   ]
  },
  {
   "cell_type": "code",
   "execution_count": 4,
   "metadata": {},
   "outputs": [],
   "source": [
    "# def __init__(self, pathToData,pathToNames):\n",
    "filePathToData = pathToData\n",
    "filePathToNames = pathToNames\n",
    "data = []\n",
    "classes = []\n",
    "numAttributes = -1 \n",
    "attrValues = {}\n",
    "attributes = []\n",
    "tree = None"
   ]
  },
  {
   "cell_type": "code",
   "execution_count": 5,
   "metadata": {},
   "outputs": [],
   "source": [
    "# def fetchData(self):\n",
    "with open(filePathToNames, \"r\") as file: \n",
    "    classes = file.readline()\n",
    "    classes = [x.strip() for x in classes.split(\",\")]\n",
    "    #add attributes\n",
    "    for line in file:\n",
    "        [attribute, values] = [x.strip() for x in line.split(\":\")]\n",
    "        values = [x.strip() for x in values.split(\",\")]\n",
    "        attrValues[attribute] = values"
   ]
  },
  {
   "cell_type": "code",
   "execution_count": 6,
   "metadata": {},
   "outputs": [],
   "source": [
    "numAttributes = len(attrValues.keys())\n",
    "attributes = list(attrValues.keys())\n",
    "with open(filePathToData, \"r\") as file:\n",
    "    for line in file:\n",
    "        row = [x.strip() for x in line.split(\",\")]\n",
    "        if row != [] or row != [\"\"]:\n",
    "            data.append(row)"
   ]
  },
  {
   "cell_type": "code",
   "execution_count": 7,
   "metadata": {},
   "outputs": [],
   "source": [
    "def isAttrDiscrete(attribute):\n",
    "    if attribute not in attributes:\n",
    "        raise ValueError(\"Attribute not listed\")\n",
    "    elif len(attrValues[attribute]) == 1 and attrValues[attribute][0] == \"continuous\":\n",
    "        return False\n",
    "    else:\n",
    "        return True"
   ]
  },
  {
   "cell_type": "code",
   "execution_count": 8,
   "metadata": {},
   "outputs": [],
   "source": [
    "# def preprocessData(self):\n",
    "for index,row in enumerate(data):\n",
    "    for attr_index in range(numAttributes):\n",
    "        if(not isAttrDiscrete(attributes[attr_index])): # Jika data nya numerik, jadiin float\n",
    "            data[index][attr_index] = float(data[index][attr_index])"
   ]
  },
  {
   "cell_type": "code",
   "execution_count": 9,
   "metadata": {},
   "outputs": [],
   "source": [
    "def log(x):\n",
    "    if x == 0:\n",
    "        return 0\n",
    "    else:\n",
    "        return math.log(x,2)"
   ]
  },
  {
   "cell_type": "code",
   "execution_count": 10,
   "metadata": {},
   "outputs": [],
   "source": [
    "def entropy(dataSet):\n",
    "    S = len(dataSet)\n",
    "    if S == 0:\n",
    "        return 0\n",
    "    num_classes = [0 for i in classes]\n",
    "    for row in dataSet:\n",
    "        classIndex = list(classes).index(row[-1])\n",
    "        num_classes[classIndex] += 1\n",
    "    num_classes = [x/S for x in num_classes]\n",
    "    ent = 0\n",
    "    for num in num_classes:\n",
    "        ent += num*log(num)\n",
    "    return ent*-1"
   ]
  },
  {
   "cell_type": "code",
   "execution_count": 11,
   "metadata": {},
   "outputs": [],
   "source": [
    "def gain(unionSet, subsets):\n",
    "    #input : data and disjoint subsets of it\n",
    "    #output : information gain\n",
    "    S = len(unionSet)\n",
    "    #calculate impurity before split\n",
    "    impurityBeforeSplit = entropy(unionSet)\n",
    "    \n",
    "    #calculate impurity after split\n",
    "    weights = [len(subset)/S for subset in subsets]\n",
    "    impurityAfterSplit = 0\n",
    "    splitInfo = 0\n",
    "#     for i in range(len(subsets)):\n",
    "        \n",
    "#         splitInfo -= weights[i] * log(weights[i])\n",
    "#         print(\"weights[{i}] * log(weights[{i}]) : ({a}/{b})  * log({a}/{b})\".format(i = i, \n",
    "#                                                     a = len(subsets[i]),\n",
    "#                                                     b = S))\n",
    "#         impurityAfterSplit += weights[i]*entropy(subsets[i])\n",
    "#         print(\"weights[{i}]*entropy(subsets[{i}]): ({a}/{b}) * {entropy}\".format(i = i, \n",
    "#                                                     weight = weights[i], \n",
    "#                                                     a = len(subsets[i]),\n",
    "#                                                     b = S,\n",
    "#                                                     entropy = entropy(subsets[i])))\n",
    "#     print(\"\\timpurityAfterSplit\")\n",
    "    for i in range(len(subsets)):\n",
    "        impurityAfterSplit += weights[i]*entropy(subsets[i])\n",
    "#         print(\"weights[{i}]*entropy(subsets[{i}]): ({a}/{b}) * {entropy} = {result}\".format(i = i, \n",
    "#                                                     weight = weights[i], \n",
    "#                                                     a = len(subsets[i]),\n",
    "#                                                     b = S,\n",
    "#                                                     entropy = entropy(subsets[i]),\n",
    "#                                                     result = weights[i]*entropy(subsets[i])))\n",
    "#     print(\"\\tsplitInfo\")\n",
    "    for i in range(len(subsets)):\n",
    "\n",
    "        splitInfo -= weights[i] * log(weights[i]) \n",
    "#         print(\"weights[{i}] * log(weights[{i}]) : ({a}/{b})  * log({a}/{b}) = {result}\".format(i = i, \n",
    "#                                                     a = len(subsets[i]),\n",
    "#                                                     b = S,\n",
    "#                                                     result = weights[i] * log(weights[i])))\n",
    "        \n",
    "    #calculate total gain\n",
    "    totalGain = (impurityBeforeSplit - impurityAfterSplit)\n",
    "    if splitInfo == 0:\n",
    "        gainRatio = 0 \n",
    "    else:\n",
    "        gainRatio = (impurityBeforeSplit - impurityAfterSplit) / splitInfo\n",
    "    \n",
    "#     print(\"gainRatio = (impurityBeforeSplit - impurityAfterSplit) / splitInfo : \\n {gainRatio} = ({impurityBeforeSplit} - {impurityAfterSplit}) / {splitInfo}\".format(gainRatio = gainRatio, impurityBeforeSplit = impurityBeforeSplit, impurityAfterSplit = impurityAfterSplit, splitInfo = splitInfo))\n",
    "#     print(\"totalGain : {}\".format(totalGain))\n",
    "    \n",
    "    return gainRatio"
   ]
  },
  {
   "cell_type": "code",
   "execution_count": 12,
   "metadata": {},
   "outputs": [],
   "source": [
    "def allSameClass(data):\n",
    "    if len(data) == 0:\n",
    "        return False\n",
    "    for row in data:\n",
    "        if row[-1] != data[0][-1]:\n",
    "            return False\n",
    "    return data[0][-1]"
   ]
  },
  {
   "cell_type": "code",
   "execution_count": 13,
   "metadata": {},
   "outputs": [],
   "source": [
    "def getMajClass(curData):\n",
    "    freq = [0]*len(classes)\n",
    "    for row in curData:\n",
    "        index = classes.index(row[-1])\n",
    "        freq[index] += 1\n",
    "    maxInd = freq.index(max(freq))\n",
    "    return classes[maxInd]"
   ]
  },
  {
   "cell_type": "code",
   "execution_count": 14,
   "metadata": {},
   "outputs": [],
   "source": [
    "class Node:\n",
    "    def __init__(self, isLeaf, parent_label, label, split_on, threshold):\n",
    "        self.isLeaf = isLeaf\n",
    "        self.parent_label = parent_label\n",
    "        self.label = label\n",
    "        self.split_on = split_on\n",
    "        self.threshold = threshold\n",
    "        self.children = []"
   ]
  },
  {
   "cell_type": "code",
   "execution_count": 15,
   "metadata": {},
   "outputs": [],
   "source": [
    "def splitAttribute(curData, curAttributes):\n",
    "    splitted = []\n",
    "    maxEnt = -1*float(\"inf\")\n",
    "    best_attribute = -1\n",
    "    #None for discrete attributes, threshold value for continuous attributes\n",
    "    best_threshold = None\n",
    "    for attribute in curAttributes:\n",
    "        indexOfAttribute = attributes.index(attribute)\n",
    "#         print(\"\\nAttribute : {}\".format(attribute))\n",
    "        if isAttrDiscrete(attribute):\n",
    "            #split curData into n-subsets, where n is the number of \n",
    "            #different values of attribute i. Choose the attribute with\n",
    "            #the max gain\n",
    "            valuesForAttribute = attrValues[attribute]\n",
    "            subsets = [[] for a in valuesForAttribute]\n",
    "            for row in curData:\n",
    "                for index in range(len(valuesForAttribute)):\n",
    "                    if row[indexOfAttribute] == valuesForAttribute[index]:\n",
    "                        subsets[index].append(row)\n",
    "                        break\n",
    "            e = gain(curData, subsets)\n",
    "            if e > maxEnt:\n",
    "                maxEnt = e\n",
    "                splitted = subsets\n",
    "                best_attribute = attribute\n",
    "                best_threshold = None\n",
    "        else:\n",
    "            #sort the data according to the column.Then try all \n",
    "            #possible adjacent pairs. Choose the one that \n",
    "            #yields maximum gain\n",
    "            curData.sort(key = lambda x: x[indexOfAttribute])\n",
    "            for j in range(0, len(curData) - 1):\n",
    "                if curData[j][indexOfAttribute] != curData[j+1][indexOfAttribute]:\n",
    "                    threshold = (curData[j][indexOfAttribute] + curData[j+1][indexOfAttribute]) / 2\n",
    "                    less = []\n",
    "                    greater = []\n",
    "                    for row in curData:\n",
    "                        if(row[indexOfAttribute] > threshold):\n",
    "                            greater.append(row)\n",
    "                        else:\n",
    "                            less.append(row)\n",
    "#                     print(\"threshold: {}\".format(threshold))\n",
    "                    e = gain(curData, [less, greater])\n",
    "                    if e >= maxEnt:\n",
    "                        splitted = [less, greater]\n",
    "                        maxEnt = e\n",
    "                        best_attribute = attribute\n",
    "                        best_threshold = threshold\n",
    "    return (best_attribute,best_threshold,splitted)\n"
   ]
  },
  {
   "cell_type": "code",
   "execution_count": 36,
   "metadata": {},
   "outputs": [],
   "source": [
    "def recursiveGenerateTree(curData, curAttributes, parent_label):\n",
    "    allSame = allSameClass(curData)\n",
    "\n",
    "    if len(curData) == 0:\n",
    "        #Empty data \n",
    "        return Node(True, parent_label, parent_label, None, None)\n",
    "    elif allSame is not False:\n",
    "        #return a node with that class\n",
    "        return Node(True, parent_label, allSame, None, None)\n",
    "    elif len(curAttributes) == 0:\n",
    "        #return a node with the majority class\n",
    "        majClass = getMajClass(curData)\n",
    "        return Node(True, parent_label, majClass, None, None)\n",
    "    else:\n",
    "        #Not a leaf\n",
    "        (best_attribute,best_threshold,splitted) = splitAttribute(curData, curAttributes)\n",
    "        remainingAttributes = curAttributes[:]\n",
    "        remainingAttributes.remove(best_attribute)\n",
    "        majClass = getMajClass(curData)\n",
    "        \n",
    "        node = Node(False, parent_label, majClass, best_attribute, best_threshold)\n",
    "        node.children = [recursiveGenerateTree(subset, remainingAttributes, majClass) for subset in splitted\n",
    "                        ]\n",
    "        return node"
   ]
  },
  {
   "cell_type": "code",
   "execution_count": 37,
   "metadata": {},
   "outputs": [],
   "source": [
    "def printNode(node, indent=\"\"):\n",
    "    if not node.isLeaf:\n",
    "        if node.threshold is None:\n",
    "            #discrete\n",
    "            for index,child in enumerate(node.children):\n",
    "                if child.isLeaf:\n",
    "#                     if child.label != 'Empty':\n",
    "                        print(indent + node.split_on + \" = \" + attrValues[node.split_on][index] + \" : \" + child.label)\n",
    "                else:\n",
    "                    print(indent + node.split_on + \" = \" + attrValues[node.split_on][index] + \" : \")\n",
    "                    printNode(child, indent + \"\t\")\n",
    "        else:\n",
    "            #numerical\n",
    "            leftChild = node.children[0]\n",
    "            rightChild = node.children[1]\n",
    "            if leftChild.isLeaf:\n",
    "#                 if leftChild.label != 'Empty':\n",
    "                    print(indent + node.split_on + \" <= \" + str(node.threshold) + \" : \" + leftChild.label)\n",
    "            else:\n",
    "                print(indent + node.split_on + \" <= \" + str(node.threshold)+\" : \")\n",
    "                printNode(leftChild, indent + \"\t\")\n",
    "\n",
    "            if rightChild.isLeaf:\n",
    "#                 if rightChild.label != 'Empty':\n",
    "                    print(indent + node.split_on + \" > \" + str(node.threshold) + \" : \" + rightChild.label)\n",
    "            else:\n",
    "                print(indent + node.split_on + \" > \" + str(node.threshold) + \" : \")\n",
    "                printNode(rightChild , indent + \"\t\")\n"
   ]
  },
  {
   "cell_type": "code",
   "execution_count": 62,
   "metadata": {},
   "outputs": [],
   "source": [
    "def predictOne(input, node):\n",
    "    if node.isLeaf: \n",
    "#         print(node.label)\n",
    "        return node.label\n",
    "    else: \n",
    "        split_on = node.split_on\n",
    "        input_value = input[attributes.index(split_on)]\n",
    "        if node.threshold is None:\n",
    "            #discrete\n",
    "            child_index = attrValues[split_on].index(input_value)\n",
    "            child_node = node.children[child_index]\n",
    "#             print(split_on, child_index)\n",
    "            return predictOne(input, child_node)\n",
    "        else: \n",
    "            #numerical\n",
    "            threshold_value = node.threshold\n",
    "            if input_value <= threshold_value:\n",
    "                child_node = node.children[0]\n",
    "            else:\n",
    "                child_node = node.children[1]\n",
    "#             print(split_on, input_value, threshold_value)\n",
    "            return predictOne(input, child_node)\n",
    "            \n",
    "def predict(inputs, node):\n",
    "    return list(map(predictOne, inputs, [node] * len(inputs)))\n",
    "        "
   ]
  },
  {
   "cell_type": "code",
   "execution_count": 63,
   "metadata": {},
   "outputs": [],
   "source": [
    "def evaluate(data, node):\n",
    "    prediction = np.array(predict(data, node))\n",
    "    real_target = np.array(data)[:,-1]\n",
    "    accuracy = sum(real_target == prediction) / len(data)\n",
    "    return accuracy\n",
    "    "
   ]
  },
  {
   "cell_type": "code",
   "execution_count": 64,
   "metadata": {},
   "outputs": [],
   "source": [
    "tree = recursiveGenerateTree(curData = data, curAttributes = attributes, parent_label = None)"
   ]
  },
  {
   "cell_type": "code",
   "execution_count": 65,
   "metadata": {},
   "outputs": [
    {
     "name": "stdout",
     "output_type": "stream",
     "text": [
      "hoursperweek <= 55.0 : \n",
      "\teducation <= 14.5 : \n",
      "\t\tage <= 71.5 : \n",
      "\t\t\trelationship = 0 : \n",
      "\t\t\t\trace = 0 : \n",
      "\t\t\t\t\tsex = 0 : No\n",
      "\t\t\t\t\tsex = 1 : No\n",
      "\t\t\t\trace = 1 : \n",
      "\t\t\t\t\tsex = 0 : No\n",
      "\t\t\t\t\tsex = 1 : No\n",
      "\t\t\trelationship = 1 : \n",
      "\t\t\t\trace = 0 : No\n",
      "\t\t\t\trace = 1 : \n",
      "\t\t\t\t\tsex = 0 : No\n",
      "\t\t\t\t\tsex = 1 : No\n",
      "\t\t\trelationship = 2 : \n",
      "\t\t\t\trace = 0 : No\n",
      "\t\t\t\trace = 1 : \n",
      "\t\t\t\t\tsex = 0 : No\n",
      "\t\t\t\t\tsex = 1 : No\n",
      "\t\tage > 71.5 : Yes\n",
      "\teducation > 14.5 : Yes\n",
      "hoursperweek > 55.0 : Yes\n"
     ]
    }
   ],
   "source": [
    "# def printTree(self):\n",
    "printNode(tree)"
   ]
  },
  {
   "cell_type": "code",
   "execution_count": 72,
   "metadata": {},
   "outputs": [
    {
     "data": {
      "text/plain": [
       "0.75"
      ]
     },
     "execution_count": 72,
     "metadata": {},
     "output_type": "execute_result"
    }
   ],
   "source": [
    "evaluate(data, tree) # akurasi data training"
   ]
  },
  {
   "cell_type": "code",
   "execution_count": null,
   "metadata": {},
   "outputs": [],
   "source": [
    "#coretan "
   ]
  },
  {
   "cell_type": "code",
   "execution_count": 66,
   "metadata": {},
   "outputs": [
    {
     "data": {
      "text/plain": [
       "([50.0, 13.0, '0', '1', '1', 13.0, 'No'],\n",
       " ['age', 'education', 'relationship', 'race', 'sex', 'hoursperweek'])"
      ]
     },
     "execution_count": 66,
     "metadata": {},
     "output_type": "execute_result"
    }
   ],
   "source": [
    "data[1],attributes"
   ]
  },
  {
   "cell_type": "code",
   "execution_count": 67,
   "metadata": {},
   "outputs": [
    {
     "data": {
      "text/plain": [
       "'No'"
      ]
     },
     "execution_count": 67,
     "metadata": {},
     "output_type": "execute_result"
    }
   ],
   "source": [
    "predictOne(data[1],tree)"
   ]
  },
  {
   "cell_type": "code",
   "execution_count": 68,
   "metadata": {},
   "outputs": [
    {
     "data": {
      "text/plain": [
       "['No', 'No', 'No', 'No', 'No', 'No', 'No', 'No', 'No', 'No']"
      ]
     },
     "execution_count": 68,
     "metadata": {},
     "output_type": "execute_result"
    }
   ],
   "source": [
    "predict(data[:10], tree)"
   ]
  },
  {
   "cell_type": "code",
   "execution_count": 69,
   "metadata": {},
   "outputs": [
    {
     "data": {
      "text/plain": [
       "['No', 'No', 'No', 'No', 'No', 'No', 'No', 'No', 'Yes', 'No']"
      ]
     },
     "execution_count": 69,
     "metadata": {},
     "output_type": "execute_result"
    }
   ],
   "source": [
    "list(np.array(data[:10])[:,-1])"
   ]
  },
  {
   "cell_type": "code",
   "execution_count": 70,
   "metadata": {},
   "outputs": [
    {
     "data": {
      "text/plain": [
       "60"
      ]
     },
     "execution_count": 70,
     "metadata": {},
     "output_type": "execute_result"
    }
   ],
   "source": [
    "len(data)"
   ]
  },
  {
   "cell_type": "code",
   "execution_count": 71,
   "metadata": {},
   "outputs": [
    {
     "data": {
      "text/plain": [
       "0.75"
      ]
     },
     "execution_count": 71,
     "metadata": {},
     "output_type": "execute_result"
    }
   ],
   "source": [
    "evaluate(data, tree)"
   ]
  },
  {
   "cell_type": "code",
   "execution_count": 54,
   "metadata": {},
   "outputs": [
    {
     "data": {
      "text/plain": [
       "array([ True, False])"
      ]
     },
     "execution_count": 54,
     "metadata": {},
     "output_type": "execute_result"
    }
   ],
   "source": [
    "np.array([1,2]) == np.array([1,3])"
   ]
  },
  {
   "cell_type": "code",
   "execution_count": null,
   "metadata": {},
   "outputs": [],
   "source": []
  },
  {
   "cell_type": "code",
   "execution_count": 52,
   "metadata": {},
   "outputs": [
    {
     "data": {
      "text/plain": [
       "False"
      ]
     },
     "execution_count": 52,
     "metadata": {},
     "output_type": "execute_result"
    }
   ],
   "source": [
    "['No', 'No', 'No', 'No', 'No', 'No', 'No', 'No', 'No', 'No'] == ['No', 'No', 'No', 'No', 'No', 'No', 'No', 'No', 'Yes', 'No']"
   ]
  },
  {
   "cell_type": "code",
   "execution_count": 50,
   "metadata": {},
   "outputs": [
    {
     "data": {
      "text/plain": [
       "(10,)"
      ]
     },
     "execution_count": 50,
     "metadata": {},
     "output_type": "execute_result"
    }
   ],
   "source": [
    "np.array(data[:10])[:,-1].shape"
   ]
  },
  {
   "cell_type": "code",
   "execution_count": null,
   "metadata": {},
   "outputs": [],
   "source": [
    "data[:10], attributes"
   ]
  },
  {
   "cell_type": "code",
   "execution_count": null,
   "metadata": {},
   "outputs": [],
   "source": [
    "new_input = [67.0, 6.0, '0', '0', '0', 50.0]"
   ]
  },
  {
   "cell_type": "code",
   "execution_count": null,
   "metadata": {},
   "outputs": [],
   "source": [
    "predictOne(new_input, tree)"
   ]
  },
  {
   "cell_type": "code",
   "execution_count": null,
   "metadata": {},
   "outputs": [],
   "source": []
  },
  {
   "cell_type": "code",
   "execution_count": null,
   "metadata": {},
   "outputs": [],
   "source": [
    "tree.parent_label"
   ]
  },
  {
   "cell_type": "code",
   "execution_count": null,
   "metadata": {},
   "outputs": [],
   "source": [
    "tree.label"
   ]
  },
  {
   "cell_type": "code",
   "execution_count": null,
   "metadata": {},
   "outputs": [],
   "source": [
    "tree.children[0].parent_label"
   ]
  },
  {
   "cell_type": "code",
   "execution_count": null,
   "metadata": {},
   "outputs": [],
   "source": [
    "tree.children[0].label"
   ]
  },
  {
   "cell_type": "code",
   "execution_count": null,
   "metadata": {},
   "outputs": [],
   "source": [
    "tree.children[1].parent_label"
   ]
  },
  {
   "cell_type": "code",
   "execution_count": null,
   "metadata": {},
   "outputs": [],
   "source": [
    "tree.children[1].label"
   ]
  },
  {
   "cell_type": "code",
   "execution_count": null,
   "metadata": {},
   "outputs": [],
   "source": []
  }
 ],
 "metadata": {
  "kernelspec": {
   "display_name": "Python 3",
   "language": "python",
   "name": "python3"
  },
  "language_info": {
   "codemirror_mode": {
    "name": "ipython",
    "version": 3
   },
   "file_extension": ".py",
   "mimetype": "text/x-python",
   "name": "python",
   "nbconvert_exporter": "python",
   "pygments_lexer": "ipython3",
   "version": "3.7.1"
  }
 },
 "nbformat": 4,
 "nbformat_minor": 2
}
