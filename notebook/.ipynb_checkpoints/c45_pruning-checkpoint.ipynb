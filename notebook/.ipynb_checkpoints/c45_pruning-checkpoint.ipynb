{
 "cells": [
  {
   "cell_type": "code",
   "execution_count": 1,
   "metadata": {},
   "outputs": [],
   "source": [
    "import math\n",
    "import numpy as np\n",
    "import pandas as pd"
   ]
  },
  {
   "cell_type": "code",
   "execution_count": 2,
   "metadata": {},
   "outputs": [],
   "source": [
    "# df = pd.read_csv(\"../data/money/money_df.csv\")\n",
    "df = pd.read_csv(\"../data/diabetes/diabetes.csv\")\n"
   ]
  },
  {
   "cell_type": "code",
   "execution_count": 3,
   "metadata": {},
   "outputs": [],
   "source": [
    "data = []\n",
    "classes = []\n",
    "targetColIdx = -1\n",
    "numAttributes = -1 \n",
    "maxCategory = 5\n",
    "attrValues = {}\n",
    "attributes = [] #done\n",
    "tree = None"
   ]
  },
  {
   "cell_type": "code",
   "execution_count": 4,
   "metadata": {},
   "outputs": [],
   "source": [
    "attributes = list(df.drop(df.columns[targetColIdx], axis = 1).columns)"
   ]
  },
  {
   "cell_type": "code",
   "execution_count": 5,
   "metadata": {},
   "outputs": [],
   "source": [
    "attrValues = {}\n",
    "for attribute in attributes:\n",
    "    unique_value = df.loc[:, attribute].unique()\n",
    "    if len(unique_value) > maxCategory: \n",
    "        #numeric\n",
    "        attrValues[attribute] = ['continuous']\n",
    "    else:\n",
    "        #categoric\n",
    "        attrValues[attribute] = sorted(df.loc[:, attribute].astype(str).unique())\n",
    "        df.loc[:,attribute] = df.loc[:, attribute].astype(str)\n",
    "df.loc[:,df.columns[targetColIdx]] = df.loc[:, df.columns[targetColIdx]].astype(str)"
   ]
  },
  {
   "cell_type": "code",
   "execution_count": 6,
   "metadata": {},
   "outputs": [],
   "source": [
    "data = df.values.tolist()"
   ]
  },
  {
   "cell_type": "code",
   "execution_count": 7,
   "metadata": {},
   "outputs": [],
   "source": [
    "classes = sorted(df.iloc[:,targetColIdx].astype(str).unique())"
   ]
  },
  {
   "cell_type": "code",
   "execution_count": 8,
   "metadata": {},
   "outputs": [],
   "source": [
    "def isAttrDiscrete(attribute):\n",
    "    if attribute not in attributes:\n",
    "        raise ValueError(\"Attribute not listed\")\n",
    "    elif len(attrValues[attribute]) == 1 and attrValues[attribute][0] == \"continuous\":\n",
    "        return False\n",
    "    else:\n",
    "        return True"
   ]
  },
  {
   "cell_type": "code",
   "execution_count": 9,
   "metadata": {},
   "outputs": [],
   "source": [
    "def log(x):\n",
    "    if x == 0:\n",
    "        return 0\n",
    "    else:\n",
    "        return math.log(x,2)"
   ]
  },
  {
   "cell_type": "code",
   "execution_count": 10,
   "metadata": {},
   "outputs": [],
   "source": [
    "def entropy(dataSet):\n",
    "    S = len(dataSet)\n",
    "    if S == 0:\n",
    "        return 0\n",
    "    num_classes = [0 for i in classes]\n",
    "    for row in dataSet:\n",
    "        classIndex = list(classes).index(row[-1])\n",
    "        num_classes[classIndex] += 1\n",
    "    num_classes = [x/S for x in num_classes]\n",
    "    ent = 0\n",
    "    for num in num_classes:\n",
    "        ent += num*log(num)\n",
    "    return ent*-1"
   ]
  },
  {
   "cell_type": "code",
   "execution_count": 11,
   "metadata": {},
   "outputs": [],
   "source": [
    "def gain(unionSet, subsets):\n",
    "    #input : data and disjoint subsets of it\n",
    "    #output : information gain\n",
    "    S = len(unionSet)\n",
    "    #calculate impurity before split\n",
    "    impurityBeforeSplit = entropy(unionSet)\n",
    "    \n",
    "    #calculate impurity after split\n",
    "    weights = [len(subset)/S for subset in subsets]\n",
    "    impurityAfterSplit = 0\n",
    "    splitInfo = 0\n",
    "#     for i in range(len(subsets)):\n",
    "        \n",
    "#         splitInfo -= weights[i] * log(weights[i])\n",
    "#         print(\"weights[{i}] * log(weights[{i}]) : ({a}/{b})  * log({a}/{b})\".format(i = i, \n",
    "#                                                     a = len(subsets[i]),\n",
    "#                                                     b = S))\n",
    "#         impurityAfterSplit += weights[i]*entropy(subsets[i])\n",
    "#         print(\"weights[{i}]*entropy(subsets[{i}]): ({a}/{b}) * {entropy}\".format(i = i, \n",
    "#                                                     weight = weights[i], \n",
    "#                                                     a = len(subsets[i]),\n",
    "#                                                     b = S,\n",
    "#                                                     entropy = entropy(subsets[i])))\n",
    "#     print(\"\\timpurityAfterSplit\")\n",
    "    for i in range(len(subsets)):\n",
    "        impurityAfterSplit += weights[i]*entropy(subsets[i])\n",
    "#         print(\"weights[{i}]*entropy(subsets[{i}]): ({a}/{b}) * {entropy} = {result}\".format(i = i, \n",
    "#                                                     weight = weights[i], \n",
    "#                                                     a = len(subsets[i]),\n",
    "#                                                     b = S,\n",
    "#                                                     entropy = entropy(subsets[i]),\n",
    "#                                                     result = weights[i]*entropy(subsets[i])))\n",
    "#     print(\"\\tsplitInfo\")\n",
    "    for i in range(len(subsets)):\n",
    "\n",
    "        splitInfo -= weights[i] * log(weights[i]) \n",
    "#         print(\"weights[{i}] * log(weights[{i}]) : ({a}/{b})  * log({a}/{b}) = {result}\".format(i = i, \n",
    "#                                                     a = len(subsets[i]),\n",
    "#                                                     b = S,\n",
    "#                                                     result = weights[i] * log(weights[i])))\n",
    "        \n",
    "    #calculate total gain\n",
    "    totalGain = (impurityBeforeSplit - impurityAfterSplit)\n",
    "    if splitInfo == 0:\n",
    "        gainRatio = 0 \n",
    "    else:\n",
    "        gainRatio = (impurityBeforeSplit - impurityAfterSplit) / splitInfo\n",
    "    \n",
    "#     print(\"gainRatio = (impurityBeforeSplit - impurityAfterSplit) / splitInfo : \\n {gainRatio} = ({impurityBeforeSplit} - {impurityAfterSplit}) / {splitInfo}\".format(gainRatio = gainRatio, impurityBeforeSplit = impurityBeforeSplit, impurityAfterSplit = impurityAfterSplit, splitInfo = splitInfo))\n",
    "#     print(\"totalGain : {}\".format(totalGain))\n",
    "    \n",
    "    return gainRatio"
   ]
  },
  {
   "cell_type": "code",
   "execution_count": 12,
   "metadata": {},
   "outputs": [],
   "source": [
    "def allSameClass(data):\n",
    "    if len(data) == 0:\n",
    "        return False\n",
    "    for row in data:\n",
    "        if row[-1] != data[0][-1]:\n",
    "            return False\n",
    "    return data[0][-1]"
   ]
  },
  {
   "cell_type": "code",
   "execution_count": 13,
   "metadata": {},
   "outputs": [],
   "source": [
    "def getClassComposition(curData):\n",
    "    class_composition = [0]*len(classes)\n",
    "    if len(curData) > 0:\n",
    "        for row in curData:\n",
    "            index = classes.index(row[-1])\n",
    "            class_composition[index] += 1\n",
    "            \n",
    "    return class_composition"
   ]
  },
  {
   "cell_type": "code",
   "execution_count": 14,
   "metadata": {},
   "outputs": [],
   "source": [
    "def getMajClass(class_composition):\n",
    "    maxInd = class_composition.index(max(class_composition))\n",
    "    return classes[maxInd]\n"
   ]
  },
  {
   "cell_type": "code",
   "execution_count": 27,
   "metadata": {},
   "outputs": [],
   "source": [
    "class Node:\n",
    "    def __init__(self, isLeaf, parent_label, label, split_on, threshold, train_composition, valid_composition):\n",
    "        self.isLeaf = isLeaf\n",
    "        self.parent_label = parent_label\n",
    "        self.label = label\n",
    "        self.split_on = split_on\n",
    "        self.threshold = threshold\n",
    "        self.children = []\n",
    "        self.train_composition = train_composition \n",
    "        self.valid_composition = valid_composition \n",
    "        "
   ]
  },
  {
   "cell_type": "code",
   "execution_count": 28,
   "metadata": {},
   "outputs": [],
   "source": [
    "def splitAttribute(curData, curAttributes):\n",
    "    splitted = []\n",
    "    maxEnt = -1*float(\"inf\")\n",
    "    best_attribute = -1\n",
    "    #None for discrete attributes, threshold value for continuous attributes\n",
    "    best_threshold = None\n",
    "    for attribute in curAttributes:\n",
    "        indexOfAttribute = attributes.index(attribute)\n",
    "#         print(\"\\nAttribute : {}\".format(attribute))\n",
    "        if isAttrDiscrete(attribute):\n",
    "            #split curData into n-subsets, where n is the number of \n",
    "            #different values of attribute i. Choose the attribute with\n",
    "            #the max gain\n",
    "            valuesForAttribute = attrValues[attribute]\n",
    "            subsets = [[] for a in valuesForAttribute]\n",
    "            for row in curData:\n",
    "                for index in range(len(valuesForAttribute)):\n",
    "                    if row[indexOfAttribute] == valuesForAttribute[index]:\n",
    "                        subsets[index].append(row)\n",
    "                        break\n",
    "            e = gain(curData, subsets)\n",
    "            if e > maxEnt:\n",
    "                maxEnt = e\n",
    "                splitted = subsets\n",
    "                best_attribute = attribute\n",
    "                best_threshold = None\n",
    "        else:\n",
    "            #sort the data according to the column.Then try all \n",
    "            #possible adjacent pairs. Choose the one that \n",
    "            #yields maximum gain\n",
    "            curData.sort(key = lambda x: x[indexOfAttribute])\n",
    "            for j in range(0, len(curData) - 1):\n",
    "                if curData[j][indexOfAttribute] != curData[j+1][indexOfAttribute]:\n",
    "                    threshold = (curData[j][indexOfAttribute] + curData[j+1][indexOfAttribute]) / 2\n",
    "                    less = []\n",
    "                    greater = []\n",
    "                    for row in curData:\n",
    "                        if(row[indexOfAttribute] > threshold):\n",
    "                            greater.append(row)\n",
    "                        else:\n",
    "                            less.append(row)\n",
    "#                     print(\"threshold: {}\".format(threshold))\n",
    "                    e = gain(curData, [less, greater])\n",
    "                    if e >= maxEnt:\n",
    "                        splitted = [less, greater]\n",
    "                        maxEnt = e\n",
    "                        best_attribute = attribute\n",
    "                        best_threshold = threshold\n",
    "    return (best_attribute,best_threshold,splitted)\n"
   ]
  },
  {
   "cell_type": "code",
   "execution_count": 29,
   "metadata": {},
   "outputs": [],
   "source": [
    "def recursiveGenerateTree(curData, curAttributes, parent_label):\n",
    "    allSame = allSameClass(curData)\n",
    "    class_composition = getClassComposition(curData)\n",
    "    majClass = getMajClass(class_composition)\n",
    "    \n",
    "    if len(curData) == 0:\n",
    "        #Empty data \n",
    "        return Node(True, parent_label, parent_label, None, None, class_composition, None)\n",
    "    \n",
    "    else: \n",
    "\n",
    "        \n",
    "        if allSame is not False:\n",
    "            #return a node with that class\n",
    "            return Node(True, parent_label, allSame, None, None, class_composition, None)\n",
    "        elif len(curAttributes) == 0:\n",
    "            #return a node with the majority class\n",
    "            return Node(True, parent_label, majClass, None, None,class_composition, None)\n",
    "        else:\n",
    "            #Not a leaf\n",
    "            (best_attribute,best_threshold,splitted) = splitAttribute(curData, curAttributes)\n",
    "            remainingAttributes = curAttributes[:]\n",
    "            if best_attribute in remainingAttributes:\n",
    "                remainingAttributes.remove(best_attribute)\n",
    "\n",
    "            node = Node(False, parent_label, majClass, best_attribute, best_threshold, class_composition, None)\n",
    "            node.children = [recursiveGenerateTree(subset, remainingAttributes, majClass) for subset in splitted\n",
    "                            ]\n",
    "            if len(node.children) == 0:\n",
    "                node.isLeaf = True\n",
    "            return node\n",
    "        \n",
    "        "
   ]
  },
  {
   "cell_type": "code",
   "execution_count": 30,
   "metadata": {},
   "outputs": [],
   "source": [
    "def printNode(node, indent=\"\"):\n",
    "    if not node.isLeaf:\n",
    "        if node.threshold is None:\n",
    "            #discrete\n",
    "            for index,child in enumerate(node.children):\n",
    "                if child.isLeaf:\n",
    "#                     if child.label != 'Empty':\n",
    "                        print(indent + node.split_on + \" = \" + attrValues[node.split_on][index] + \" : \" + child.label)\n",
    "                else:\n",
    "                    print(indent + node.split_on + \" = \" + attrValues[node.split_on][index] + \" : \")\n",
    "                    printNode(child, indent + \"\t\")\n",
    "        else:\n",
    "            #numerical\n",
    "            leftChild = node.children[0]\n",
    "            rightChild = node.children[1]\n",
    "            if leftChild.isLeaf:\n",
    "#                 if leftChild.label != 'Empty':\n",
    "                    print(indent + node.split_on + \" <= \" + str(node.threshold) + \" : \" + leftChild.label)\n",
    "            else:\n",
    "                print(indent + node.split_on + \" <= \" + str(node.threshold)+\" : \")\n",
    "                printNode(leftChild, indent + \"\t\")\n",
    "\n",
    "            if rightChild.isLeaf:\n",
    "#                 if rightChild.label != 'Empty':\n",
    "                    print(indent + node.split_on + \" > \" + str(node.threshold) + \" : \" + rightChild.label)\n",
    "            else:\n",
    "                print(indent + node.split_on + \" > \" + str(node.threshold) + \" : \")\n",
    "                printNode(rightChild , indent + \"\t\")\n"
   ]
  },
  {
   "cell_type": "code",
   "execution_count": 31,
   "metadata": {},
   "outputs": [],
   "source": [
    "def printNodeTrainComposition(node, indent=\"\"):\n",
    "    \n",
    "    if not node.isLeaf:\n",
    "        if node.threshold is None:\n",
    "            #discrete\n",
    "            for index,child in enumerate(node.children):\n",
    "                if child.isLeaf:\n",
    "#                     if child.label != 'Empty':\n",
    "                        print(indent + \" \" + node.split_on + \" = \" + attrValues[node.split_on][index] + \" : \" + child.label + \" \" + str(child.train_composition))\n",
    "                else:\n",
    "                    print(indent + \" \" + node.split_on + \" = \" + attrValues[node.split_on][index] + \" : \" + str(child.train_composition))\n",
    "                    printNodeTrainComposition(child, indent = indent + \"\t\")\n",
    "        else:\n",
    "            #numerical\n",
    "            leftChild = node.children[0]\n",
    "            rightChild = node.children[1]\n",
    "            if leftChild.isLeaf:\n",
    "#                 if leftChild.label != 'Empty':\n",
    "                    print(indent + \" \" + node.split_on + \" <= \" + str(node.threshold) + \" : \" + leftChild.label + \" \" + str(leftChild.train_composition))\n",
    "            else:\n",
    "                print(indent + \" \" + node.split_on + \" <= \" + str(node.threshold)+\" : \" + str(leftChild.train_composition))\n",
    "                printNodeTrainComposition(leftChild, indent = indent + \"\t\")\n",
    "\n",
    "            if rightChild.isLeaf:\n",
    "#                 if rightChild.label != 'Empty':\n",
    "                    print(indent + \" \" + node.split_on + \" > \" + str(node.threshold) + \" : \" + rightChild.label + \" \" +str(rightChild.train_composition))\n",
    "            else:\n",
    "                print(indent + \" \" + node.split_on + \" > \" + str(node.threshold) + \" : \" + str(rightChild.train_composition))\n",
    "                printNodeTrainComposition(rightChild , indent = indent + \"\t\")\n"
   ]
  },
  {
   "cell_type": "code",
   "execution_count": 32,
   "metadata": {},
   "outputs": [],
   "source": [
    "def predictOne(input, node):\n",
    "    if node.isLeaf: \n",
    "#         print(node.label)\n",
    "        return node.label\n",
    "    else: \n",
    "        split_on = node.split_on\n",
    "        input_value = input[attributes.index(split_on)]\n",
    "        if node.threshold is None:\n",
    "            #discrete\n",
    "            child_index = attrValues[split_on].index(input_value)\n",
    "            child_node = node.children[child_index]\n",
    "#             print(split_on, child_index)\n",
    "            return predictOne(input, child_node)\n",
    "        else: \n",
    "            #numerical\n",
    "            threshold_value = node.threshold\n",
    "            if input_value <= threshold_value:\n",
    "                child_node = node.children[0]\n",
    "            else:\n",
    "                child_node = node.children[1]\n",
    "#             print(split_on, input_value, threshold_value)\n",
    "            return predictOne(input, child_node)\n",
    "            \n",
    "def predict(inputs, node):\n",
    "    return list(map(predictOne, inputs, [node] * len(inputs)))\n",
    "        "
   ]
  },
  {
   "cell_type": "code",
   "execution_count": 33,
   "metadata": {},
   "outputs": [],
   "source": [
    "def evaluate(data, node):\n",
    "    prediction = np.array(predict(data, node))\n",
    "    real_target = np.array(data)[:,-1]\n",
    "    accuracy = sum(real_target == prediction) / len(data)\n",
    "    return accuracy\n",
    "    "
   ]
  },
  {
   "cell_type": "code",
   "execution_count": 34,
   "metadata": {},
   "outputs": [],
   "source": [
    "tree = recursiveGenerateTree(curData = data, curAttributes = attributes, parent_label = None)"
   ]
  },
  {
   "cell_type": "code",
   "execution_count": 25,
   "metadata": {},
   "outputs": [
    {
     "name": "stdout",
     "output_type": "stream",
     "text": [
      " Glucose <= 166.5 : [489, 200]\n",
      "\t Pregnancies <= 13.5 : [489, 197]\n",
      "\t\t DiabetesPedigreeFunction <= 2.0345 : [489, 196]\n",
      "\t\t\t BMI <= 62.199999999999996 : [489, 195]\n",
      "\t\t\t\t Age <= 28.5 : [293, 53]\n",
      "\t\t\t\t\t SkinThickness <= 55.0 : [293, 52]\n",
      "\t\t\t\t\t\t Insulin <= 512.5 : [292, 51]\n",
      "\t\t\t\t\t\t\t BloodPressure <= 34.0 : 0 [13, 7]\n",
      "\t\t\t\t\t\t\t BloodPressure > 34.0 : 0 [279, 44]\n",
      "\t\t\t\t\t\t Insulin > 512.5 : [1, 1]\n",
      "\t\t\t\t\t\t\t BloodPressure <= 71.0 : 1 [0, 1]\n",
      "\t\t\t\t\t\t\t BloodPressure > 71.0 : 0 [1, 0]\n",
      "\t\t\t\t\t SkinThickness > 55.0 : 1 [0, 1]\n",
      "\t\t\t\t Age > 28.5 : [196, 142]\n",
      "\t\t\t\t\t Insulin <= 572.5 : [196, 141]\n",
      "\t\t\t\t\t\t BloodPressure <= 111.0 : [196, 140]\n",
      "\t\t\t\t\t\t\t SkinThickness <= 51.5 : 0 [193, 140]\n",
      "\t\t\t\t\t\t\t SkinThickness > 51.5 : 0 [3, 0]\n",
      "\t\t\t\t\t\t BloodPressure > 111.0 : 1 [0, 1]\n",
      "\t\t\t\t\t Insulin > 572.5 : 1 [0, 1]\n",
      "\t\t\t BMI > 62.199999999999996 : 1 [0, 1]\n",
      "\t\t DiabetesPedigreeFunction > 2.0345 : 1 [0, 1]\n",
      "\t Pregnancies > 13.5 : 1 [0, 3]\n",
      " Glucose > 166.5 : [11, 68]\n",
      "\t Age <= 66.5 : [10, 68]\n",
      "\t\t BMI <= 23.1 : 0 [1, 0]\n",
      "\t\t BMI > 23.1 : [9, 68]\n",
      "\t\t\t BloodPressure <= 93.0 : [6, 65]\n",
      "\t\t\t\t DiabetesPedigreeFunction <= 2.233 : [5, 64]\n",
      "\t\t\t\t\t Pregnancies <= 9.5 : [4, 62]\n",
      "\t\t\t\t\t\t SkinThickness <= 32.5 : [4, 36]\n",
      "\t\t\t\t\t\t\t Insulin <= 35.0 : 1 [0, 21]\n",
      "\t\t\t\t\t\t\t Insulin > 35.0 : 1 [4, 15]\n",
      "\t\t\t\t\t\t SkinThickness > 32.5 : 1 [0, 26]\n",
      "\t\t\t\t\t Pregnancies > 9.5 : [1, 2]\n",
      "\t\t\t\t\t\t SkinThickness <= 15.0 : [1, 1]\n",
      "\t\t\t\t\t\t SkinThickness > 15.0 : 1 [0, 1]\n",
      "\t\t\t\t DiabetesPedigreeFunction > 2.233 : [1, 1]\n",
      "\t\t\t\t\t Insulin <= 379.0 : 1 [0, 1]\n",
      "\t\t\t\t\t Insulin > 379.0 : 0 [1, 0]\n",
      "\t\t\t BloodPressure > 93.0 : [3, 3]\n",
      "\t\t\t\t Insulin <= 115.5 : [3, 1]\n",
      "\t\t\t\t\t Pregnancies <= 2.0 : 1 [0, 1]\n",
      "\t\t\t\t\t Pregnancies > 2.0 : 0 [3, 0]\n",
      "\t\t\t\t Insulin > 115.5 : 1 [0, 2]\n",
      "\t Age > 66.5 : 0 [1, 0]\n"
     ]
    }
   ],
   "source": [
    "# def printTree(self):\n",
    "printNodeTrainComposition(tree)"
   ]
  },
  {
   "cell_type": "code",
   "execution_count": 63,
   "metadata": {},
   "outputs": [
    {
     "data": {
      "text/plain": [
       "False"
      ]
     },
     "execution_count": 63,
     "metadata": {},
     "output_type": "execute_result"
    }
   ],
   "source": [
    "tree.children[1].children[0].children[1].children[0].children[0].children[1].children[0].isLeaf"
   ]
  },
  {
   "cell_type": "code",
   "execution_count": null,
   "metadata": {},
   "outputs": [],
   "source": []
  },
  {
   "cell_type": "code",
   "execution_count": 45,
   "metadata": {},
   "outputs": [
    {
     "data": {
      "text/plain": [
       "([10, 168, 74, 0, 0, 38.0, 0.537, 34, '1'],\n",
       " ['Pregnancies',\n",
       "  'Glucose',\n",
       "  'BloodPressure',\n",
       "  'SkinThickness',\n",
       "  'Insulin',\n",
       "  'BMI',\n",
       "  'DiabetesPedigreeFunction',\n",
       "  'Age'])"
      ]
     },
     "execution_count": 45,
     "metadata": {},
     "output_type": "execute_result"
    }
   ],
   "source": [
    "data[i], attributes"
   ]
  },
  {
   "cell_type": "code",
   "execution_count": 42,
   "metadata": {},
   "outputs": [
    {
     "data": {
      "text/plain": [
       "479"
      ]
     },
     "execution_count": 42,
     "metadata": {},
     "output_type": "execute_result"
    }
   ],
   "source": [
    "i"
   ]
  },
  {
   "cell_type": "code",
   "execution_count": null,
   "metadata": {},
   "outputs": [],
   "source": []
  },
  {
   "cell_type": "code",
   "execution_count": 48,
   "metadata": {},
   "outputs": [
    {
     "ename": "ValueError",
     "evalue": "-1 is not in list",
     "output_type": "error",
     "traceback": [
      "\u001b[0;31m---------------------------------------------------------------------------\u001b[0m",
      "\u001b[0;31mValueError\u001b[0m                                Traceback (most recent call last)",
      "\u001b[0;32m<ipython-input-48-ebc8185313b7>\u001b[0m in \u001b[0;36m<module>\u001b[0;34m\u001b[0m\n\u001b[0;32m----> 1\u001b[0;31m \u001b[0mpredictOne\u001b[0m\u001b[0;34m(\u001b[0m\u001b[0mdata\u001b[0m\u001b[0;34m[\u001b[0m\u001b[0mi\u001b[0m\u001b[0;34m]\u001b[0m\u001b[0;34m,\u001b[0m\u001b[0mtree\u001b[0m\u001b[0;34m)\u001b[0m\u001b[0;34m\u001b[0m\u001b[0;34m\u001b[0m\u001b[0m\n\u001b[0m",
      "\u001b[0;32m<ipython-input-32-7086eb89bbd9>\u001b[0m in \u001b[0;36mpredictOne\u001b[0;34m(input, node)\u001b[0m\n\u001b[1;32m     20\u001b[0m                 \u001b[0mchild_node\u001b[0m \u001b[0;34m=\u001b[0m \u001b[0mnode\u001b[0m\u001b[0;34m.\u001b[0m\u001b[0mchildren\u001b[0m\u001b[0;34m[\u001b[0m\u001b[0;36m1\u001b[0m\u001b[0;34m]\u001b[0m\u001b[0;34m\u001b[0m\u001b[0;34m\u001b[0m\u001b[0m\n\u001b[1;32m     21\u001b[0m \u001b[0;31m#             print(split_on, input_value, threshold_value)\u001b[0m\u001b[0;34m\u001b[0m\u001b[0;34m\u001b[0m\u001b[0;34m\u001b[0m\u001b[0m\n\u001b[0;32m---> 22\u001b[0;31m             \u001b[0;32mreturn\u001b[0m \u001b[0mpredictOne\u001b[0m\u001b[0;34m(\u001b[0m\u001b[0minput\u001b[0m\u001b[0;34m,\u001b[0m \u001b[0mchild_node\u001b[0m\u001b[0;34m)\u001b[0m\u001b[0;34m\u001b[0m\u001b[0;34m\u001b[0m\u001b[0m\n\u001b[0m\u001b[1;32m     23\u001b[0m \u001b[0;34m\u001b[0m\u001b[0m\n\u001b[1;32m     24\u001b[0m \u001b[0;32mdef\u001b[0m \u001b[0mpredict\u001b[0m\u001b[0;34m(\u001b[0m\u001b[0minputs\u001b[0m\u001b[0;34m,\u001b[0m \u001b[0mnode\u001b[0m\u001b[0;34m)\u001b[0m\u001b[0;34m:\u001b[0m\u001b[0;34m\u001b[0m\u001b[0;34m\u001b[0m\u001b[0m\n",
      "\u001b[0;32m<ipython-input-32-7086eb89bbd9>\u001b[0m in \u001b[0;36mpredictOne\u001b[0;34m(input, node)\u001b[0m\n\u001b[1;32m     20\u001b[0m                 \u001b[0mchild_node\u001b[0m \u001b[0;34m=\u001b[0m \u001b[0mnode\u001b[0m\u001b[0;34m.\u001b[0m\u001b[0mchildren\u001b[0m\u001b[0;34m[\u001b[0m\u001b[0;36m1\u001b[0m\u001b[0;34m]\u001b[0m\u001b[0;34m\u001b[0m\u001b[0;34m\u001b[0m\u001b[0m\n\u001b[1;32m     21\u001b[0m \u001b[0;31m#             print(split_on, input_value, threshold_value)\u001b[0m\u001b[0;34m\u001b[0m\u001b[0;34m\u001b[0m\u001b[0;34m\u001b[0m\u001b[0m\n\u001b[0;32m---> 22\u001b[0;31m             \u001b[0;32mreturn\u001b[0m \u001b[0mpredictOne\u001b[0m\u001b[0;34m(\u001b[0m\u001b[0minput\u001b[0m\u001b[0;34m,\u001b[0m \u001b[0mchild_node\u001b[0m\u001b[0;34m)\u001b[0m\u001b[0;34m\u001b[0m\u001b[0;34m\u001b[0m\u001b[0m\n\u001b[0m\u001b[1;32m     23\u001b[0m \u001b[0;34m\u001b[0m\u001b[0m\n\u001b[1;32m     24\u001b[0m \u001b[0;32mdef\u001b[0m \u001b[0mpredict\u001b[0m\u001b[0;34m(\u001b[0m\u001b[0minputs\u001b[0m\u001b[0;34m,\u001b[0m \u001b[0mnode\u001b[0m\u001b[0;34m)\u001b[0m\u001b[0;34m:\u001b[0m\u001b[0;34m\u001b[0m\u001b[0;34m\u001b[0m\u001b[0m\n",
      "\u001b[0;32m<ipython-input-32-7086eb89bbd9>\u001b[0m in \u001b[0;36mpredictOne\u001b[0;34m(input, node)\u001b[0m\n\u001b[1;32m     20\u001b[0m                 \u001b[0mchild_node\u001b[0m \u001b[0;34m=\u001b[0m \u001b[0mnode\u001b[0m\u001b[0;34m.\u001b[0m\u001b[0mchildren\u001b[0m\u001b[0;34m[\u001b[0m\u001b[0;36m1\u001b[0m\u001b[0;34m]\u001b[0m\u001b[0;34m\u001b[0m\u001b[0;34m\u001b[0m\u001b[0m\n\u001b[1;32m     21\u001b[0m \u001b[0;31m#             print(split_on, input_value, threshold_value)\u001b[0m\u001b[0;34m\u001b[0m\u001b[0;34m\u001b[0m\u001b[0;34m\u001b[0m\u001b[0m\n\u001b[0;32m---> 22\u001b[0;31m             \u001b[0;32mreturn\u001b[0m \u001b[0mpredictOne\u001b[0m\u001b[0;34m(\u001b[0m\u001b[0minput\u001b[0m\u001b[0;34m,\u001b[0m \u001b[0mchild_node\u001b[0m\u001b[0;34m)\u001b[0m\u001b[0;34m\u001b[0m\u001b[0;34m\u001b[0m\u001b[0m\n\u001b[0m\u001b[1;32m     23\u001b[0m \u001b[0;34m\u001b[0m\u001b[0m\n\u001b[1;32m     24\u001b[0m \u001b[0;32mdef\u001b[0m \u001b[0mpredict\u001b[0m\u001b[0;34m(\u001b[0m\u001b[0minputs\u001b[0m\u001b[0;34m,\u001b[0m \u001b[0mnode\u001b[0m\u001b[0;34m)\u001b[0m\u001b[0;34m:\u001b[0m\u001b[0;34m\u001b[0m\u001b[0;34m\u001b[0m\u001b[0m\n",
      "\u001b[0;32m<ipython-input-32-7086eb89bbd9>\u001b[0m in \u001b[0;36mpredictOne\u001b[0;34m(input, node)\u001b[0m\n\u001b[1;32m     20\u001b[0m                 \u001b[0mchild_node\u001b[0m \u001b[0;34m=\u001b[0m \u001b[0mnode\u001b[0m\u001b[0;34m.\u001b[0m\u001b[0mchildren\u001b[0m\u001b[0;34m[\u001b[0m\u001b[0;36m1\u001b[0m\u001b[0;34m]\u001b[0m\u001b[0;34m\u001b[0m\u001b[0;34m\u001b[0m\u001b[0m\n\u001b[1;32m     21\u001b[0m \u001b[0;31m#             print(split_on, input_value, threshold_value)\u001b[0m\u001b[0;34m\u001b[0m\u001b[0;34m\u001b[0m\u001b[0;34m\u001b[0m\u001b[0m\n\u001b[0;32m---> 22\u001b[0;31m             \u001b[0;32mreturn\u001b[0m \u001b[0mpredictOne\u001b[0m\u001b[0;34m(\u001b[0m\u001b[0minput\u001b[0m\u001b[0;34m,\u001b[0m \u001b[0mchild_node\u001b[0m\u001b[0;34m)\u001b[0m\u001b[0;34m\u001b[0m\u001b[0;34m\u001b[0m\u001b[0m\n\u001b[0m\u001b[1;32m     23\u001b[0m \u001b[0;34m\u001b[0m\u001b[0m\n\u001b[1;32m     24\u001b[0m \u001b[0;32mdef\u001b[0m \u001b[0mpredict\u001b[0m\u001b[0;34m(\u001b[0m\u001b[0minputs\u001b[0m\u001b[0;34m,\u001b[0m \u001b[0mnode\u001b[0m\u001b[0;34m)\u001b[0m\u001b[0;34m:\u001b[0m\u001b[0;34m\u001b[0m\u001b[0;34m\u001b[0m\u001b[0m\n",
      "\u001b[0;32m<ipython-input-32-7086eb89bbd9>\u001b[0m in \u001b[0;36mpredictOne\u001b[0;34m(input, node)\u001b[0m\n\u001b[1;32m     20\u001b[0m                 \u001b[0mchild_node\u001b[0m \u001b[0;34m=\u001b[0m \u001b[0mnode\u001b[0m\u001b[0;34m.\u001b[0m\u001b[0mchildren\u001b[0m\u001b[0;34m[\u001b[0m\u001b[0;36m1\u001b[0m\u001b[0;34m]\u001b[0m\u001b[0;34m\u001b[0m\u001b[0;34m\u001b[0m\u001b[0m\n\u001b[1;32m     21\u001b[0m \u001b[0;31m#             print(split_on, input_value, threshold_value)\u001b[0m\u001b[0;34m\u001b[0m\u001b[0;34m\u001b[0m\u001b[0;34m\u001b[0m\u001b[0m\n\u001b[0;32m---> 22\u001b[0;31m             \u001b[0;32mreturn\u001b[0m \u001b[0mpredictOne\u001b[0m\u001b[0;34m(\u001b[0m\u001b[0minput\u001b[0m\u001b[0;34m,\u001b[0m \u001b[0mchild_node\u001b[0m\u001b[0;34m)\u001b[0m\u001b[0;34m\u001b[0m\u001b[0;34m\u001b[0m\u001b[0m\n\u001b[0m\u001b[1;32m     23\u001b[0m \u001b[0;34m\u001b[0m\u001b[0m\n\u001b[1;32m     24\u001b[0m \u001b[0;32mdef\u001b[0m \u001b[0mpredict\u001b[0m\u001b[0;34m(\u001b[0m\u001b[0minputs\u001b[0m\u001b[0;34m,\u001b[0m \u001b[0mnode\u001b[0m\u001b[0;34m)\u001b[0m\u001b[0;34m:\u001b[0m\u001b[0;34m\u001b[0m\u001b[0;34m\u001b[0m\u001b[0m\n",
      "\u001b[0;32m<ipython-input-32-7086eb89bbd9>\u001b[0m in \u001b[0;36mpredictOne\u001b[0;34m(input, node)\u001b[0m\n\u001b[1;32m     20\u001b[0m                 \u001b[0mchild_node\u001b[0m \u001b[0;34m=\u001b[0m \u001b[0mnode\u001b[0m\u001b[0;34m.\u001b[0m\u001b[0mchildren\u001b[0m\u001b[0;34m[\u001b[0m\u001b[0;36m1\u001b[0m\u001b[0;34m]\u001b[0m\u001b[0;34m\u001b[0m\u001b[0;34m\u001b[0m\u001b[0m\n\u001b[1;32m     21\u001b[0m \u001b[0;31m#             print(split_on, input_value, threshold_value)\u001b[0m\u001b[0;34m\u001b[0m\u001b[0;34m\u001b[0m\u001b[0;34m\u001b[0m\u001b[0m\n\u001b[0;32m---> 22\u001b[0;31m             \u001b[0;32mreturn\u001b[0m \u001b[0mpredictOne\u001b[0m\u001b[0;34m(\u001b[0m\u001b[0minput\u001b[0m\u001b[0;34m,\u001b[0m \u001b[0mchild_node\u001b[0m\u001b[0;34m)\u001b[0m\u001b[0;34m\u001b[0m\u001b[0;34m\u001b[0m\u001b[0m\n\u001b[0m\u001b[1;32m     23\u001b[0m \u001b[0;34m\u001b[0m\u001b[0m\n\u001b[1;32m     24\u001b[0m \u001b[0;32mdef\u001b[0m \u001b[0mpredict\u001b[0m\u001b[0;34m(\u001b[0m\u001b[0minputs\u001b[0m\u001b[0;34m,\u001b[0m \u001b[0mnode\u001b[0m\u001b[0;34m)\u001b[0m\u001b[0;34m:\u001b[0m\u001b[0;34m\u001b[0m\u001b[0;34m\u001b[0m\u001b[0m\n",
      "\u001b[0;32m<ipython-input-32-7086eb89bbd9>\u001b[0m in \u001b[0;36mpredictOne\u001b[0;34m(input, node)\u001b[0m\n\u001b[1;32m     20\u001b[0m                 \u001b[0mchild_node\u001b[0m \u001b[0;34m=\u001b[0m \u001b[0mnode\u001b[0m\u001b[0;34m.\u001b[0m\u001b[0mchildren\u001b[0m\u001b[0;34m[\u001b[0m\u001b[0;36m1\u001b[0m\u001b[0;34m]\u001b[0m\u001b[0;34m\u001b[0m\u001b[0;34m\u001b[0m\u001b[0m\n\u001b[1;32m     21\u001b[0m \u001b[0;31m#             print(split_on, input_value, threshold_value)\u001b[0m\u001b[0;34m\u001b[0m\u001b[0;34m\u001b[0m\u001b[0;34m\u001b[0m\u001b[0m\n\u001b[0;32m---> 22\u001b[0;31m             \u001b[0;32mreturn\u001b[0m \u001b[0mpredictOne\u001b[0m\u001b[0;34m(\u001b[0m\u001b[0minput\u001b[0m\u001b[0;34m,\u001b[0m \u001b[0mchild_node\u001b[0m\u001b[0;34m)\u001b[0m\u001b[0;34m\u001b[0m\u001b[0;34m\u001b[0m\u001b[0m\n\u001b[0m\u001b[1;32m     23\u001b[0m \u001b[0;34m\u001b[0m\u001b[0m\n\u001b[1;32m     24\u001b[0m \u001b[0;32mdef\u001b[0m \u001b[0mpredict\u001b[0m\u001b[0;34m(\u001b[0m\u001b[0minputs\u001b[0m\u001b[0;34m,\u001b[0m \u001b[0mnode\u001b[0m\u001b[0;34m)\u001b[0m\u001b[0;34m:\u001b[0m\u001b[0;34m\u001b[0m\u001b[0;34m\u001b[0m\u001b[0m\n",
      "\u001b[0;32m<ipython-input-32-7086eb89bbd9>\u001b[0m in \u001b[0;36mpredictOne\u001b[0;34m(input, node)\u001b[0m\n\u001b[1;32m      5\u001b[0m     \u001b[0;32melse\u001b[0m\u001b[0;34m:\u001b[0m\u001b[0;34m\u001b[0m\u001b[0;34m\u001b[0m\u001b[0m\n\u001b[1;32m      6\u001b[0m         \u001b[0msplit_on\u001b[0m \u001b[0;34m=\u001b[0m \u001b[0mnode\u001b[0m\u001b[0;34m.\u001b[0m\u001b[0msplit_on\u001b[0m\u001b[0;34m\u001b[0m\u001b[0;34m\u001b[0m\u001b[0m\n\u001b[0;32m----> 7\u001b[0;31m         \u001b[0minput_value\u001b[0m \u001b[0;34m=\u001b[0m \u001b[0minput\u001b[0m\u001b[0;34m[\u001b[0m\u001b[0mattributes\u001b[0m\u001b[0;34m.\u001b[0m\u001b[0mindex\u001b[0m\u001b[0;34m(\u001b[0m\u001b[0msplit_on\u001b[0m\u001b[0;34m)\u001b[0m\u001b[0;34m]\u001b[0m\u001b[0;34m\u001b[0m\u001b[0;34m\u001b[0m\u001b[0m\n\u001b[0m\u001b[1;32m      8\u001b[0m         \u001b[0;32mif\u001b[0m \u001b[0mnode\u001b[0m\u001b[0;34m.\u001b[0m\u001b[0mthreshold\u001b[0m \u001b[0;32mis\u001b[0m \u001b[0;32mNone\u001b[0m\u001b[0;34m:\u001b[0m\u001b[0;34m\u001b[0m\u001b[0;34m\u001b[0m\u001b[0m\n\u001b[1;32m      9\u001b[0m             \u001b[0;31m#discrete\u001b[0m\u001b[0;34m\u001b[0m\u001b[0;34m\u001b[0m\u001b[0;34m\u001b[0m\u001b[0m\n",
      "\u001b[0;31mValueError\u001b[0m: -1 is not in list"
     ]
    }
   ],
   "source": [
    "predictOne(data[i],tree)"
   ]
  },
  {
   "cell_type": "code",
   "execution_count": null,
   "metadata": {},
   "outputs": [],
   "source": []
  },
  {
   "cell_type": "code",
   "execution_count": 26,
   "metadata": {},
   "outputs": [
    {
     "ename": "ValueError",
     "evalue": "-1 is not in list",
     "output_type": "error",
     "traceback": [
      "\u001b[0;31m---------------------------------------------------------------------------\u001b[0m",
      "\u001b[0;31mValueError\u001b[0m                                Traceback (most recent call last)",
      "\u001b[0;32m<ipython-input-26-89af8b396832>\u001b[0m in \u001b[0;36m<module>\u001b[0;34m\u001b[0m\n\u001b[0;32m----> 1\u001b[0;31m \u001b[0mevaluate\u001b[0m\u001b[0;34m(\u001b[0m\u001b[0mdata\u001b[0m\u001b[0;34m,\u001b[0m \u001b[0mtree\u001b[0m\u001b[0;34m)\u001b[0m \u001b[0;31m# akurasi data training\u001b[0m\u001b[0;34m\u001b[0m\u001b[0;34m\u001b[0m\u001b[0m\n\u001b[0m",
      "\u001b[0;32m<ipython-input-23-7bf76753788c>\u001b[0m in \u001b[0;36mevaluate\u001b[0;34m(data, node)\u001b[0m\n\u001b[1;32m      1\u001b[0m \u001b[0;32mdef\u001b[0m \u001b[0mevaluate\u001b[0m\u001b[0;34m(\u001b[0m\u001b[0mdata\u001b[0m\u001b[0;34m,\u001b[0m \u001b[0mnode\u001b[0m\u001b[0;34m)\u001b[0m\u001b[0;34m:\u001b[0m\u001b[0;34m\u001b[0m\u001b[0;34m\u001b[0m\u001b[0m\n\u001b[0;32m----> 2\u001b[0;31m     \u001b[0mprediction\u001b[0m \u001b[0;34m=\u001b[0m \u001b[0mnp\u001b[0m\u001b[0;34m.\u001b[0m\u001b[0marray\u001b[0m\u001b[0;34m(\u001b[0m\u001b[0mpredict\u001b[0m\u001b[0;34m(\u001b[0m\u001b[0mdata\u001b[0m\u001b[0;34m,\u001b[0m \u001b[0mnode\u001b[0m\u001b[0;34m)\u001b[0m\u001b[0;34m)\u001b[0m\u001b[0;34m\u001b[0m\u001b[0;34m\u001b[0m\u001b[0m\n\u001b[0m\u001b[1;32m      3\u001b[0m     \u001b[0mreal_target\u001b[0m \u001b[0;34m=\u001b[0m \u001b[0mnp\u001b[0m\u001b[0;34m.\u001b[0m\u001b[0marray\u001b[0m\u001b[0;34m(\u001b[0m\u001b[0mdata\u001b[0m\u001b[0;34m)\u001b[0m\u001b[0;34m[\u001b[0m\u001b[0;34m:\u001b[0m\u001b[0;34m,\u001b[0m\u001b[0;34m-\u001b[0m\u001b[0;36m1\u001b[0m\u001b[0;34m]\u001b[0m\u001b[0;34m\u001b[0m\u001b[0;34m\u001b[0m\u001b[0m\n\u001b[1;32m      4\u001b[0m     \u001b[0maccuracy\u001b[0m \u001b[0;34m=\u001b[0m \u001b[0msum\u001b[0m\u001b[0;34m(\u001b[0m\u001b[0mreal_target\u001b[0m \u001b[0;34m==\u001b[0m \u001b[0mprediction\u001b[0m\u001b[0;34m)\u001b[0m \u001b[0;34m/\u001b[0m \u001b[0mlen\u001b[0m\u001b[0;34m(\u001b[0m\u001b[0mdata\u001b[0m\u001b[0;34m)\u001b[0m\u001b[0;34m\u001b[0m\u001b[0;34m\u001b[0m\u001b[0m\n\u001b[1;32m      5\u001b[0m     \u001b[0;32mreturn\u001b[0m \u001b[0maccuracy\u001b[0m\u001b[0;34m\u001b[0m\u001b[0;34m\u001b[0m\u001b[0m\n",
      "\u001b[0;32m<ipython-input-22-7086eb89bbd9>\u001b[0m in \u001b[0;36mpredict\u001b[0;34m(inputs, node)\u001b[0m\n\u001b[1;32m     23\u001b[0m \u001b[0;34m\u001b[0m\u001b[0m\n\u001b[1;32m     24\u001b[0m \u001b[0;32mdef\u001b[0m \u001b[0mpredict\u001b[0m\u001b[0;34m(\u001b[0m\u001b[0minputs\u001b[0m\u001b[0;34m,\u001b[0m \u001b[0mnode\u001b[0m\u001b[0;34m)\u001b[0m\u001b[0;34m:\u001b[0m\u001b[0;34m\u001b[0m\u001b[0;34m\u001b[0m\u001b[0m\n\u001b[0;32m---> 25\u001b[0;31m     \u001b[0;32mreturn\u001b[0m \u001b[0mlist\u001b[0m\u001b[0;34m(\u001b[0m\u001b[0mmap\u001b[0m\u001b[0;34m(\u001b[0m\u001b[0mpredictOne\u001b[0m\u001b[0;34m,\u001b[0m \u001b[0minputs\u001b[0m\u001b[0;34m,\u001b[0m \u001b[0;34m[\u001b[0m\u001b[0mnode\u001b[0m\u001b[0;34m]\u001b[0m \u001b[0;34m*\u001b[0m \u001b[0mlen\u001b[0m\u001b[0;34m(\u001b[0m\u001b[0minputs\u001b[0m\u001b[0;34m)\u001b[0m\u001b[0;34m)\u001b[0m\u001b[0;34m)\u001b[0m\u001b[0;34m\u001b[0m\u001b[0;34m\u001b[0m\u001b[0m\n\u001b[0m\u001b[1;32m     26\u001b[0m \u001b[0;34m\u001b[0m\u001b[0m\n",
      "\u001b[0;32m<ipython-input-22-7086eb89bbd9>\u001b[0m in \u001b[0;36mpredictOne\u001b[0;34m(input, node)\u001b[0m\n\u001b[1;32m     20\u001b[0m                 \u001b[0mchild_node\u001b[0m \u001b[0;34m=\u001b[0m \u001b[0mnode\u001b[0m\u001b[0;34m.\u001b[0m\u001b[0mchildren\u001b[0m\u001b[0;34m[\u001b[0m\u001b[0;36m1\u001b[0m\u001b[0;34m]\u001b[0m\u001b[0;34m\u001b[0m\u001b[0;34m\u001b[0m\u001b[0m\n\u001b[1;32m     21\u001b[0m \u001b[0;31m#             print(split_on, input_value, threshold_value)\u001b[0m\u001b[0;34m\u001b[0m\u001b[0;34m\u001b[0m\u001b[0;34m\u001b[0m\u001b[0m\n\u001b[0;32m---> 22\u001b[0;31m             \u001b[0;32mreturn\u001b[0m \u001b[0mpredictOne\u001b[0m\u001b[0;34m(\u001b[0m\u001b[0minput\u001b[0m\u001b[0;34m,\u001b[0m \u001b[0mchild_node\u001b[0m\u001b[0;34m)\u001b[0m\u001b[0;34m\u001b[0m\u001b[0;34m\u001b[0m\u001b[0m\n\u001b[0m\u001b[1;32m     23\u001b[0m \u001b[0;34m\u001b[0m\u001b[0m\n\u001b[1;32m     24\u001b[0m \u001b[0;32mdef\u001b[0m \u001b[0mpredict\u001b[0m\u001b[0;34m(\u001b[0m\u001b[0minputs\u001b[0m\u001b[0;34m,\u001b[0m \u001b[0mnode\u001b[0m\u001b[0;34m)\u001b[0m\u001b[0;34m:\u001b[0m\u001b[0;34m\u001b[0m\u001b[0;34m\u001b[0m\u001b[0m\n",
      "\u001b[0;32m<ipython-input-22-7086eb89bbd9>\u001b[0m in \u001b[0;36mpredictOne\u001b[0;34m(input, node)\u001b[0m\n\u001b[1;32m     20\u001b[0m                 \u001b[0mchild_node\u001b[0m \u001b[0;34m=\u001b[0m \u001b[0mnode\u001b[0m\u001b[0;34m.\u001b[0m\u001b[0mchildren\u001b[0m\u001b[0;34m[\u001b[0m\u001b[0;36m1\u001b[0m\u001b[0;34m]\u001b[0m\u001b[0;34m\u001b[0m\u001b[0;34m\u001b[0m\u001b[0m\n\u001b[1;32m     21\u001b[0m \u001b[0;31m#             print(split_on, input_value, threshold_value)\u001b[0m\u001b[0;34m\u001b[0m\u001b[0;34m\u001b[0m\u001b[0;34m\u001b[0m\u001b[0m\n\u001b[0;32m---> 22\u001b[0;31m             \u001b[0;32mreturn\u001b[0m \u001b[0mpredictOne\u001b[0m\u001b[0;34m(\u001b[0m\u001b[0minput\u001b[0m\u001b[0;34m,\u001b[0m \u001b[0mchild_node\u001b[0m\u001b[0;34m)\u001b[0m\u001b[0;34m\u001b[0m\u001b[0;34m\u001b[0m\u001b[0m\n\u001b[0m\u001b[1;32m     23\u001b[0m \u001b[0;34m\u001b[0m\u001b[0m\n\u001b[1;32m     24\u001b[0m \u001b[0;32mdef\u001b[0m \u001b[0mpredict\u001b[0m\u001b[0;34m(\u001b[0m\u001b[0minputs\u001b[0m\u001b[0;34m,\u001b[0m \u001b[0mnode\u001b[0m\u001b[0;34m)\u001b[0m\u001b[0;34m:\u001b[0m\u001b[0;34m\u001b[0m\u001b[0;34m\u001b[0m\u001b[0m\n",
      "\u001b[0;32m<ipython-input-22-7086eb89bbd9>\u001b[0m in \u001b[0;36mpredictOne\u001b[0;34m(input, node)\u001b[0m\n\u001b[1;32m     20\u001b[0m                 \u001b[0mchild_node\u001b[0m \u001b[0;34m=\u001b[0m \u001b[0mnode\u001b[0m\u001b[0;34m.\u001b[0m\u001b[0mchildren\u001b[0m\u001b[0;34m[\u001b[0m\u001b[0;36m1\u001b[0m\u001b[0;34m]\u001b[0m\u001b[0;34m\u001b[0m\u001b[0;34m\u001b[0m\u001b[0m\n\u001b[1;32m     21\u001b[0m \u001b[0;31m#             print(split_on, input_value, threshold_value)\u001b[0m\u001b[0;34m\u001b[0m\u001b[0;34m\u001b[0m\u001b[0;34m\u001b[0m\u001b[0m\n\u001b[0;32m---> 22\u001b[0;31m             \u001b[0;32mreturn\u001b[0m \u001b[0mpredictOne\u001b[0m\u001b[0;34m(\u001b[0m\u001b[0minput\u001b[0m\u001b[0;34m,\u001b[0m \u001b[0mchild_node\u001b[0m\u001b[0;34m)\u001b[0m\u001b[0;34m\u001b[0m\u001b[0;34m\u001b[0m\u001b[0m\n\u001b[0m\u001b[1;32m     23\u001b[0m \u001b[0;34m\u001b[0m\u001b[0m\n\u001b[1;32m     24\u001b[0m \u001b[0;32mdef\u001b[0m \u001b[0mpredict\u001b[0m\u001b[0;34m(\u001b[0m\u001b[0minputs\u001b[0m\u001b[0;34m,\u001b[0m \u001b[0mnode\u001b[0m\u001b[0;34m)\u001b[0m\u001b[0;34m:\u001b[0m\u001b[0;34m\u001b[0m\u001b[0;34m\u001b[0m\u001b[0m\n",
      "\u001b[0;32m<ipython-input-22-7086eb89bbd9>\u001b[0m in \u001b[0;36mpredictOne\u001b[0;34m(input, node)\u001b[0m\n\u001b[1;32m     20\u001b[0m                 \u001b[0mchild_node\u001b[0m \u001b[0;34m=\u001b[0m \u001b[0mnode\u001b[0m\u001b[0;34m.\u001b[0m\u001b[0mchildren\u001b[0m\u001b[0;34m[\u001b[0m\u001b[0;36m1\u001b[0m\u001b[0;34m]\u001b[0m\u001b[0;34m\u001b[0m\u001b[0;34m\u001b[0m\u001b[0m\n\u001b[1;32m     21\u001b[0m \u001b[0;31m#             print(split_on, input_value, threshold_value)\u001b[0m\u001b[0;34m\u001b[0m\u001b[0;34m\u001b[0m\u001b[0;34m\u001b[0m\u001b[0m\n\u001b[0;32m---> 22\u001b[0;31m             \u001b[0;32mreturn\u001b[0m \u001b[0mpredictOne\u001b[0m\u001b[0;34m(\u001b[0m\u001b[0minput\u001b[0m\u001b[0;34m,\u001b[0m \u001b[0mchild_node\u001b[0m\u001b[0;34m)\u001b[0m\u001b[0;34m\u001b[0m\u001b[0;34m\u001b[0m\u001b[0m\n\u001b[0m\u001b[1;32m     23\u001b[0m \u001b[0;34m\u001b[0m\u001b[0m\n\u001b[1;32m     24\u001b[0m \u001b[0;32mdef\u001b[0m \u001b[0mpredict\u001b[0m\u001b[0;34m(\u001b[0m\u001b[0minputs\u001b[0m\u001b[0;34m,\u001b[0m \u001b[0mnode\u001b[0m\u001b[0;34m)\u001b[0m\u001b[0;34m:\u001b[0m\u001b[0;34m\u001b[0m\u001b[0;34m\u001b[0m\u001b[0m\n",
      "\u001b[0;32m<ipython-input-22-7086eb89bbd9>\u001b[0m in \u001b[0;36mpredictOne\u001b[0;34m(input, node)\u001b[0m\n\u001b[1;32m     20\u001b[0m                 \u001b[0mchild_node\u001b[0m \u001b[0;34m=\u001b[0m \u001b[0mnode\u001b[0m\u001b[0;34m.\u001b[0m\u001b[0mchildren\u001b[0m\u001b[0;34m[\u001b[0m\u001b[0;36m1\u001b[0m\u001b[0;34m]\u001b[0m\u001b[0;34m\u001b[0m\u001b[0;34m\u001b[0m\u001b[0m\n\u001b[1;32m     21\u001b[0m \u001b[0;31m#             print(split_on, input_value, threshold_value)\u001b[0m\u001b[0;34m\u001b[0m\u001b[0;34m\u001b[0m\u001b[0;34m\u001b[0m\u001b[0m\n\u001b[0;32m---> 22\u001b[0;31m             \u001b[0;32mreturn\u001b[0m \u001b[0mpredictOne\u001b[0m\u001b[0;34m(\u001b[0m\u001b[0minput\u001b[0m\u001b[0;34m,\u001b[0m \u001b[0mchild_node\u001b[0m\u001b[0;34m)\u001b[0m\u001b[0;34m\u001b[0m\u001b[0;34m\u001b[0m\u001b[0m\n\u001b[0m\u001b[1;32m     23\u001b[0m \u001b[0;34m\u001b[0m\u001b[0m\n\u001b[1;32m     24\u001b[0m \u001b[0;32mdef\u001b[0m \u001b[0mpredict\u001b[0m\u001b[0;34m(\u001b[0m\u001b[0minputs\u001b[0m\u001b[0;34m,\u001b[0m \u001b[0mnode\u001b[0m\u001b[0;34m)\u001b[0m\u001b[0;34m:\u001b[0m\u001b[0;34m\u001b[0m\u001b[0;34m\u001b[0m\u001b[0m\n",
      "\u001b[0;32m<ipython-input-22-7086eb89bbd9>\u001b[0m in \u001b[0;36mpredictOne\u001b[0;34m(input, node)\u001b[0m\n\u001b[1;32m     20\u001b[0m                 \u001b[0mchild_node\u001b[0m \u001b[0;34m=\u001b[0m \u001b[0mnode\u001b[0m\u001b[0;34m.\u001b[0m\u001b[0mchildren\u001b[0m\u001b[0;34m[\u001b[0m\u001b[0;36m1\u001b[0m\u001b[0;34m]\u001b[0m\u001b[0;34m\u001b[0m\u001b[0;34m\u001b[0m\u001b[0m\n\u001b[1;32m     21\u001b[0m \u001b[0;31m#             print(split_on, input_value, threshold_value)\u001b[0m\u001b[0;34m\u001b[0m\u001b[0;34m\u001b[0m\u001b[0;34m\u001b[0m\u001b[0m\n\u001b[0;32m---> 22\u001b[0;31m             \u001b[0;32mreturn\u001b[0m \u001b[0mpredictOne\u001b[0m\u001b[0;34m(\u001b[0m\u001b[0minput\u001b[0m\u001b[0;34m,\u001b[0m \u001b[0mchild_node\u001b[0m\u001b[0;34m)\u001b[0m\u001b[0;34m\u001b[0m\u001b[0;34m\u001b[0m\u001b[0m\n\u001b[0m\u001b[1;32m     23\u001b[0m \u001b[0;34m\u001b[0m\u001b[0m\n\u001b[1;32m     24\u001b[0m \u001b[0;32mdef\u001b[0m \u001b[0mpredict\u001b[0m\u001b[0;34m(\u001b[0m\u001b[0minputs\u001b[0m\u001b[0;34m,\u001b[0m \u001b[0mnode\u001b[0m\u001b[0;34m)\u001b[0m\u001b[0;34m:\u001b[0m\u001b[0;34m\u001b[0m\u001b[0;34m\u001b[0m\u001b[0m\n",
      "\u001b[0;32m<ipython-input-22-7086eb89bbd9>\u001b[0m in \u001b[0;36mpredictOne\u001b[0;34m(input, node)\u001b[0m\n\u001b[1;32m     20\u001b[0m                 \u001b[0mchild_node\u001b[0m \u001b[0;34m=\u001b[0m \u001b[0mnode\u001b[0m\u001b[0;34m.\u001b[0m\u001b[0mchildren\u001b[0m\u001b[0;34m[\u001b[0m\u001b[0;36m1\u001b[0m\u001b[0;34m]\u001b[0m\u001b[0;34m\u001b[0m\u001b[0;34m\u001b[0m\u001b[0m\n\u001b[1;32m     21\u001b[0m \u001b[0;31m#             print(split_on, input_value, threshold_value)\u001b[0m\u001b[0;34m\u001b[0m\u001b[0;34m\u001b[0m\u001b[0;34m\u001b[0m\u001b[0m\n\u001b[0;32m---> 22\u001b[0;31m             \u001b[0;32mreturn\u001b[0m \u001b[0mpredictOne\u001b[0m\u001b[0;34m(\u001b[0m\u001b[0minput\u001b[0m\u001b[0;34m,\u001b[0m \u001b[0mchild_node\u001b[0m\u001b[0;34m)\u001b[0m\u001b[0;34m\u001b[0m\u001b[0;34m\u001b[0m\u001b[0m\n\u001b[0m\u001b[1;32m     23\u001b[0m \u001b[0;34m\u001b[0m\u001b[0m\n\u001b[1;32m     24\u001b[0m \u001b[0;32mdef\u001b[0m \u001b[0mpredict\u001b[0m\u001b[0;34m(\u001b[0m\u001b[0minputs\u001b[0m\u001b[0;34m,\u001b[0m \u001b[0mnode\u001b[0m\u001b[0;34m)\u001b[0m\u001b[0;34m:\u001b[0m\u001b[0;34m\u001b[0m\u001b[0;34m\u001b[0m\u001b[0m\n",
      "\u001b[0;32m<ipython-input-22-7086eb89bbd9>\u001b[0m in \u001b[0;36mpredictOne\u001b[0;34m(input, node)\u001b[0m\n\u001b[1;32m      5\u001b[0m     \u001b[0;32melse\u001b[0m\u001b[0;34m:\u001b[0m\u001b[0;34m\u001b[0m\u001b[0;34m\u001b[0m\u001b[0m\n\u001b[1;32m      6\u001b[0m         \u001b[0msplit_on\u001b[0m \u001b[0;34m=\u001b[0m \u001b[0mnode\u001b[0m\u001b[0;34m.\u001b[0m\u001b[0msplit_on\u001b[0m\u001b[0;34m\u001b[0m\u001b[0;34m\u001b[0m\u001b[0m\n\u001b[0;32m----> 7\u001b[0;31m         \u001b[0minput_value\u001b[0m \u001b[0;34m=\u001b[0m \u001b[0minput\u001b[0m\u001b[0;34m[\u001b[0m\u001b[0mattributes\u001b[0m\u001b[0;34m.\u001b[0m\u001b[0mindex\u001b[0m\u001b[0;34m(\u001b[0m\u001b[0msplit_on\u001b[0m\u001b[0;34m)\u001b[0m\u001b[0;34m]\u001b[0m\u001b[0;34m\u001b[0m\u001b[0;34m\u001b[0m\u001b[0m\n\u001b[0m\u001b[1;32m      8\u001b[0m         \u001b[0;32mif\u001b[0m \u001b[0mnode\u001b[0m\u001b[0;34m.\u001b[0m\u001b[0mthreshold\u001b[0m \u001b[0;32mis\u001b[0m \u001b[0;32mNone\u001b[0m\u001b[0;34m:\u001b[0m\u001b[0;34m\u001b[0m\u001b[0;34m\u001b[0m\u001b[0m\n\u001b[1;32m      9\u001b[0m             \u001b[0;31m#discrete\u001b[0m\u001b[0;34m\u001b[0m\u001b[0;34m\u001b[0m\u001b[0;34m\u001b[0m\u001b[0m\n",
      "\u001b[0;31mValueError\u001b[0m: -1 is not in list"
     ]
    }
   ],
   "source": [
    "evaluate(data, tree) # akurasi data training"
   ]
  },
  {
   "cell_type": "code",
   "execution_count": null,
   "metadata": {},
   "outputs": [],
   "source": [
    "attributes"
   ]
  },
  {
   "cell_type": "code",
   "execution_count": null,
   "metadata": {},
   "outputs": [],
   "source": [
    "attrValues"
   ]
  },
  {
   "cell_type": "code",
   "execution_count": null,
   "metadata": {},
   "outputs": [],
   "source": [
    "tree.label"
   ]
  },
  {
   "cell_type": "code",
   "execution_count": null,
   "metadata": {},
   "outputs": [],
   "source": []
  }
 ],
 "metadata": {
  "kernelspec": {
   "display_name": "Python 3",
   "language": "python",
   "name": "python3"
  },
  "language_info": {
   "codemirror_mode": {
    "name": "ipython",
    "version": 3
   },
   "file_extension": ".py",
   "mimetype": "text/x-python",
   "name": "python",
   "nbconvert_exporter": "python",
   "pygments_lexer": "ipython3",
   "version": "3.7.1"
  }
 },
 "nbformat": 4,
 "nbformat_minor": 2
}
